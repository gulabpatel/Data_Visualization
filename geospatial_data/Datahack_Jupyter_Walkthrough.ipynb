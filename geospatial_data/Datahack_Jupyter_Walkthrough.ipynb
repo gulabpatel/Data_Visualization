{
 "cells": [
  {
   "cell_type": "markdown",
   "id": "e4b3d771",
   "metadata": {},
   "source": [
    "# Importing Libraries, Loading Data and Other Good Stuff"
   ]
  },
  {
   "cell_type": "code",
   "execution_count": null,
   "id": "629c4d59",
   "metadata": {
    "ExecuteTime": {
     "end_time": "2023-02-03T19:31:49.095440Z",
     "start_time": "2023-02-03T19:31:47.563278Z"
    }
   },
   "outputs": [],
   "source": [
    "%load_ext nb_black\n",
    "import pandas as pd\n",
    "import geopandas as gpd\n",
    "import matplotlib.pyplot as plt\n",
    "import seaborn as sns\n",
    "import numpy as np\n",
    "from geopandas.plotting import _PolygonPatch\n",
    "from shapely.affinity import scale"
   ]
  },
  {
   "cell_type": "code",
   "execution_count": null,
   "id": "fa03ff56",
   "metadata": {
    "ExecuteTime": {
     "end_time": "2023-02-03T19:31:49.109098Z",
     "start_time": "2023-02-03T19:31:49.097179Z"
    }
   },
   "outputs": [],
   "source": [
    "econ_survey = pd.read_csv(\"economic_survey_2021.csv\")"
   ]
  },
  {
   "cell_type": "code",
   "execution_count": null,
   "id": "8c5e59ae",
   "metadata": {
    "ExecuteTime": {
     "end_time": "2023-02-03T19:31:49.121037Z",
     "start_time": "2023-02-03T19:31:49.112580Z"
    }
   },
   "outputs": [],
   "source": [
    "econ_survey.head()"
   ]
  },
  {
   "cell_type": "code",
   "execution_count": null,
   "id": "22267659",
   "metadata": {
    "ExecuteTime": {
     "end_time": "2023-02-03T19:31:49.201847Z",
     "start_time": "2023-02-03T19:31:49.123885Z"
    }
   },
   "outputs": [],
   "source": [
    "econ_survey = econ_survey[[\"Name\", \"GDDP_Current\"]]"
   ]
  },
  {
   "cell_type": "code",
   "execution_count": null,
   "id": "e39d6f2f",
   "metadata": {
    "ExecuteTime": {
     "end_time": "2023-02-03T19:31:49.999356Z",
     "start_time": "2023-02-03T19:31:49.204494Z"
    }
   },
   "outputs": [],
   "source": [
    "districts = gpd.read_file(\"District.shp\")"
   ]
  },
  {
   "cell_type": "code",
   "execution_count": null,
   "id": "7b27a08a",
   "metadata": {
    "ExecuteTime": {
     "end_time": "2023-02-03T19:31:50.278818Z",
     "start_time": "2023-02-03T19:31:50.001010Z"
    },
    "scrolled": false
   },
   "outputs": [],
   "source": [
    "districts.head()"
   ]
  },
  {
   "cell_type": "code",
   "execution_count": null,
   "id": "811e4419",
   "metadata": {
    "ExecuteTime": {
     "end_time": "2023-02-03T19:31:50.403283Z",
     "start_time": "2023-02-03T19:31:50.280592Z"
    }
   },
   "outputs": [],
   "source": [
    "districts = districts.to_crs(\"4326\")"
   ]
  },
  {
   "cell_type": "code",
   "execution_count": null,
   "id": "09648ab9",
   "metadata": {
    "ExecuteTime": {
     "end_time": "2023-02-03T19:31:50.417807Z",
     "start_time": "2023-02-03T19:31:50.405144Z"
    }
   },
   "outputs": [],
   "source": [
    "econ_survey = econ_survey.rename({\"Name\": \"KGISDist_1\"}, axis=1)\n",
    "econ_survey.head()"
   ]
  },
  {
   "cell_type": "code",
   "execution_count": null,
   "id": "5ba8b22d",
   "metadata": {
    "ExecuteTime": {
     "end_time": "2023-02-03T19:31:50.436634Z",
     "start_time": "2023-02-03T19:31:50.420194Z"
    }
   },
   "outputs": [],
   "source": [
    "districts = districts.merge(econ_survey)"
   ]
  },
  {
   "cell_type": "markdown",
   "id": "647a4349",
   "metadata": {},
   "source": [
    "# Plotting Shapefiles"
   ]
  },
  {
   "cell_type": "code",
   "execution_count": null,
   "id": "afdcefee",
   "metadata": {
    "ExecuteTime": {
     "end_time": "2023-02-03T19:31:50.721673Z",
     "start_time": "2023-02-03T19:31:50.438638Z"
    }
   },
   "outputs": [],
   "source": [
    "districts.plot()"
   ]
  },
  {
   "cell_type": "code",
   "execution_count": null,
   "id": "17914cae",
   "metadata": {
    "ExecuteTime": {
     "end_time": "2023-02-03T19:31:51.126211Z",
     "start_time": "2023-02-03T19:31:50.726328Z"
    }
   },
   "outputs": [],
   "source": [
    "districts.plot(figsize=(20, 20))"
   ]
  },
  {
   "cell_type": "markdown",
   "id": "ed3dee94",
   "metadata": {},
   "source": [
    "# Choropleth Maps"
   ]
  },
  {
   "cell_type": "code",
   "execution_count": null,
   "id": "fcdc0707",
   "metadata": {
    "ExecuteTime": {
     "end_time": "2023-02-03T19:31:51.514949Z",
     "start_time": "2023-02-03T19:31:51.133595Z"
    }
   },
   "outputs": [],
   "source": [
    "districts.plot(figsize=(20, 20), column=\"GDDP_Current\")"
   ]
  },
  {
   "cell_type": "code",
   "execution_count": null,
   "id": "f99b4015",
   "metadata": {
    "ExecuteTime": {
     "end_time": "2023-02-03T19:31:52.719413Z",
     "start_time": "2023-02-03T19:31:51.516283Z"
    }
   },
   "outputs": [],
   "source": [
    "districts.plot(\n",
    "    figsize=(20, 20), column=\"GDDP_Current\", colormap=\"RdPu\", scheme=\"percentiles\"\n",
    ")"
   ]
  },
  {
   "cell_type": "code",
   "execution_count": null,
   "id": "320ac743",
   "metadata": {
    "ExecuteTime": {
     "end_time": "2023-02-03T19:31:53.484493Z",
     "start_time": "2023-02-03T19:31:52.721140Z"
    },
    "scrolled": false
   },
   "outputs": [],
   "source": [
    "# Basic figure settings\n",
    "fig, ax = plt.subplots(figsize=(20, 20), facecolor=\"white\")\n",
    "\n",
    "# Adding Text\n",
    "ax.text(\n",
    "    0.67,\n",
    "    0.8,\n",
    "    \"KARNATAKA DISTRICT WISE GDP (In Lakh Rupees)\",\n",
    "    fontname=\"Sawasdee\",\n",
    "    fontsize=25,\n",
    "    fontweight=3,\n",
    "    transform=fig.transFigure,\n",
    ")\n",
    "\n",
    "# Turning off axes\n",
    "ax.axis(\"off\")\n",
    "\n",
    "# Plotting district boundaries/outline\n",
    "ax = districts.boundary.plot(color=\"black\", linewidth=0.5, ax=ax)\n",
    "\n",
    "# Plotting GDDP Data as Choropleth\n",
    "districts.plot(\n",
    "    ax=ax,\n",
    "    column=\"GDDP_Current\",\n",
    "    cmap=\"YlOrRd\",\n",
    "    scheme=\"percentiles\",\n",
    "    classification_kwds={\"pct\": [10, 20, 30, 40, 50, 60, 70, 80, 99, 100]},\n",
    "    legend=True,\n",
    "    legend_kwds={\n",
    "        \"labels\": [\n",
    "            \"12.8 to 18.7\",\n",
    "            \"18.7 to 22.8\",\n",
    "            \"22.8 to 25.7\",\n",
    "            \"25.7 to 27.8\",\n",
    "            \"27.8 to 31.0\",\n",
    "            \"31.0 to 38.8\",\n",
    "            \"38.8 to 39.7\",\n",
    "            \"39.7 to 52.3\",\n",
    "            \"52.3 to 445.11\",\n",
    "            \"445.11 to 596.26\",\n",
    "        ],\n",
    "        \"loc\": \"center right\",\n",
    "        \"bbox_to_anchor\": (1.3, 0.5),\n",
    "        \"prop\": {\"family\": \"Sawasdee\", \"weight\": 3, \"size\": 22},\n",
    "    },\n",
    ")"
   ]
  },
  {
   "cell_type": "markdown",
   "id": "22c5b3cf",
   "metadata": {},
   "source": [
    "# Bubble Plots"
   ]
  },
  {
   "cell_type": "code",
   "execution_count": null,
   "id": "b3a1369d",
   "metadata": {
    "ExecuteTime": {
     "end_time": "2023-02-03T19:31:53.660745Z",
     "start_time": "2023-02-03T19:31:53.485908Z"
    }
   },
   "outputs": [],
   "source": [
    "# Convert Polygon to a Point\n",
    "centroids = districts.copy()\n",
    "centroids[\"geometry\"] = districts.centroid"
   ]
  },
  {
   "cell_type": "code",
   "execution_count": null,
   "id": "446ae9cc",
   "metadata": {
    "ExecuteTime": {
     "end_time": "2023-02-03T19:31:54.365339Z",
     "start_time": "2023-02-03T19:31:53.662864Z"
    }
   },
   "outputs": [],
   "source": [
    "fig, ax = plt.subplots(figsize=(20, 20))\n",
    "ax = districts.boundary.plot(ax=ax)\n",
    "centroids.plot(ax=ax, color=\"black\")"
   ]
  },
  {
   "cell_type": "code",
   "execution_count": null,
   "id": "daa54379",
   "metadata": {
    "ExecuteTime": {
     "end_time": "2023-02-03T19:31:54.380005Z",
     "start_time": "2023-02-03T19:31:54.366720Z"
    }
   },
   "outputs": [],
   "source": [
    "# Makes sure the point is inside the polygon\n",
    "rep_points = districts.copy()\n",
    "rep_points[\"geometry\"] = districts.representative_point()"
   ]
  },
  {
   "cell_type": "code",
   "execution_count": null,
   "id": "acb12ac2",
   "metadata": {
    "ExecuteTime": {
     "end_time": "2023-02-03T19:31:55.129774Z",
     "start_time": "2023-02-03T19:31:54.381205Z"
    }
   },
   "outputs": [],
   "source": [
    "fig, ax = plt.subplots(figsize=(20, 20))\n",
    "ax = districts.boundary.plot(ax=ax)\n",
    "rep_points.plot(ax=ax, color=\"black\")"
   ]
  },
  {
   "cell_type": "code",
   "execution_count": null,
   "id": "5a03920e",
   "metadata": {
    "ExecuteTime": {
     "end_time": "2023-02-03T19:31:55.141457Z",
     "start_time": "2023-02-03T19:31:55.132683Z"
    }
   },
   "outputs": [],
   "source": [
    "# Scale these points to fit inside the map\n",
    "rep_points[\"size\"] = rep_points[\"GDDP_Current\"] / 30000  # 30000 is by trail and error"
   ]
  },
  {
   "cell_type": "code",
   "execution_count": null,
   "id": "9c53f8c3",
   "metadata": {
    "ExecuteTime": {
     "end_time": "2023-02-03T19:31:55.957439Z",
     "start_time": "2023-02-03T19:31:55.146000Z"
    },
    "scrolled": false
   },
   "outputs": [],
   "source": [
    "fig, ax = plt.subplots(figsize=(20, 20), facecolor=\"white\")\n",
    "\n",
    "ax.text(\n",
    "    0.67,\n",
    "    0.8,\n",
    "    \"KARNATAKA DISTRICT WISE GDP (In Lakh Rupees)\",\n",
    "    fontname=\"Sawasdee\",\n",
    "    fontsize=25,\n",
    "    fontweight=3,\n",
    "    transform=fig.transFigure,\n",
    ")\n",
    "\n",
    "ax.axis(\"off\")\n",
    "\n",
    "ax = districts.boundary.plot(color=\"black\", linewidth=0.5, ax=ax)\n",
    "\n",
    "rep_points.plot(\n",
    "    ax=ax,\n",
    "    column=\"GDDP_Current\",\n",
    "    markersize=\"size\",  # For Bubble Plot\n",
    "    cmap=\"YlOrRd\",\n",
    "    edgecolor=\"black\",\n",
    "    scheme=\"percentiles\",\n",
    "    classification_kwds={\"pct\": [10, 20, 30, 40, 50, 60, 70, 80, 99, 100]},\n",
    "    legend=True,\n",
    "    legend_kwds={\n",
    "        \"labels\": [\n",
    "            \"12.8 to 18.7\",\n",
    "            \"18.7 to 22.8\",\n",
    "            \"22.8 to 25.7\",\n",
    "            \"25.7 to 27.8\",\n",
    "            \"27.8 to 31.0\",\n",
    "            \"31.0 to 38.8\",\n",
    "            \"38.8 to 39.7\",\n",
    "            \"39.7 to 52.3\",\n",
    "            \"52.3 to 445.11\",\n",
    "            \"445.11 to 596.26\",\n",
    "        ],\n",
    "        \"loc\": \"center right\",\n",
    "        \"bbox_to_anchor\": (1.3, 0.5),\n",
    "        \"prop\": {\"family\": \"Sawasdee\", \"weight\": 3, \"size\": 22},\n",
    "    },\n",
    ")"
   ]
  },
  {
   "cell_type": "markdown",
   "id": "56844dc8",
   "metadata": {},
   "source": [
    "# Cartogram"
   ]
  },
  {
   "cell_type": "code",
   "execution_count": null,
   "id": "066ab151",
   "metadata": {
    "ExecuteTime": {
     "end_time": "2023-02-03T19:31:55.983503Z",
     "start_time": "2023-02-03T19:31:55.963224Z"
    }
   },
   "outputs": [],
   "source": [
    "cartogram = districts.copy()\n",
    "cartogram[\"scale_factor\"] = cartogram[\"GDDP_Current\"] / cartogram[\"GDDP_Current\"].max()\n",
    "cartogram[\"repr_point\"] = cartogram.representative_point()"
   ]
  },
  {
   "cell_type": "code",
   "execution_count": null,
   "id": "59f0a416",
   "metadata": {
    "ExecuteTime": {
     "end_time": "2023-02-03T19:31:56.010885Z",
     "start_time": "2023-02-03T19:31:55.985216Z"
    }
   },
   "outputs": [],
   "source": [
    "# Scale each geometry\n",
    "scaled_geoms = [\n",
    "    scale(\n",
    "        x[\"geometry\"],\n",
    "        xfact=x[\"scale_factor\"],\n",
    "        yfact=x[\"scale_factor\"],\n",
    "        origin=x[\"repr_point\"],\n",
    "    )\n",
    "    for x in cartogram.to_dict(orient=\"records\")\n",
    "]\n",
    "\n",
    "cartogram[\"geometry\"] = scaled_geoms"
   ]
  },
  {
   "cell_type": "code",
   "execution_count": null,
   "id": "d6886f3d",
   "metadata": {
    "ExecuteTime": {
     "end_time": "2023-02-03T19:31:57.052034Z",
     "start_time": "2023-02-03T19:31:56.012715Z"
    },
    "scrolled": false
   },
   "outputs": [],
   "source": [
    "fig, ax = plt.subplots(figsize=(20, 20), facecolor=\"white\")\n",
    "\n",
    "ax.text(\n",
    "    0.67,\n",
    "    0.8,\n",
    "    \"KARNATAKA DISTRICT WISE GDP (In Lakh Rupees)\",\n",
    "    fontname=\"Sawasdee\",\n",
    "    fontsize=25,\n",
    "    fontweight=3,\n",
    "    transform=fig.transFigure,\n",
    ")\n",
    "\n",
    "\n",
    "ax.axis(\"off\")\n",
    "\n",
    "ax = districts.boundary.plot(color=\"black\", linewidth=0.5, ax=ax)\n",
    "\n",
    "cartogram.plot(\n",
    "    ax=ax,\n",
    "    column=\"GDDP_Current\",\n",
    "    cmap=\"YlOrRd\",\n",
    "    edgecolor=\"black\",\n",
    "    linewidth=0.2,\n",
    "    scheme=\"percentiles\",\n",
    "    classification_kwds={\"pct\": [10, 20, 30, 40, 50, 60, 70, 80, 99, 100]},\n",
    "    legend=True,\n",
    "    legend_kwds={\n",
    "        \"labels\": [\n",
    "            \"12.8 to 18.7\",\n",
    "            \"18.7 to 22.8\",\n",
    "            \"22.8 to 25.7\",\n",
    "            \"25.7 to 27.8\",\n",
    "            \"27.8 to 31.0\",\n",
    "            \"31.0 to 38.8\",\n",
    "            \"38.8 to 39.7\",\n",
    "            \"39.7 to 52.3\",\n",
    "            \"52.3 to 445.11\",\n",
    "            \"445.11 to 596.26\",\n",
    "        ],\n",
    "        \"loc\": \"center right\",\n",
    "        \"bbox_to_anchor\": (1.3, 0.5),\n",
    "        \"prop\": {\"family\": \"Sawasdee\", \"weight\": 3, \"size\": 22},\n",
    "    },\n",
    ")"
   ]
  },
  {
   "cell_type": "markdown",
   "id": "415faff1",
   "metadata": {},
   "source": [
    "# Point Plots Revisited, Briefly"
   ]
  },
  {
   "cell_type": "code",
   "execution_count": null,
   "id": "07cf9c7a",
   "metadata": {
    "ExecuteTime": {
     "end_time": "2023-02-03T19:31:57.927254Z",
     "start_time": "2023-02-03T19:31:57.054440Z"
    }
   },
   "outputs": [],
   "source": [
    "assemblies = gpd.read_file(\"AC_Boundary.shp\")\n",
    "assemblies = assemblies.to_crs(\"4326\")"
   ]
  },
  {
   "cell_type": "code",
   "execution_count": null,
   "id": "00451420",
   "metadata": {
    "ExecuteTime": {
     "end_time": "2023-02-03T19:31:58.275348Z",
     "start_time": "2023-02-03T19:31:57.928907Z"
    }
   },
   "outputs": [],
   "source": [
    "assemblies.plot(figsize=(10, 10))"
   ]
  },
  {
   "cell_type": "code",
   "execution_count": null,
   "id": "74050e47",
   "metadata": {
    "ExecuteTime": {
     "end_time": "2023-02-03T19:31:58.300785Z",
     "start_time": "2023-02-03T19:31:58.277100Z"
    }
   },
   "outputs": [],
   "source": [
    "assemblies[\"geometry\"] = assemblies.representative_point()"
   ]
  },
  {
   "cell_type": "code",
   "execution_count": null,
   "id": "48559830",
   "metadata": {
    "ExecuteTime": {
     "end_time": "2023-02-03T19:31:58.896486Z",
     "start_time": "2023-02-03T19:31:58.302916Z"
    }
   },
   "outputs": [],
   "source": [
    "fig, ax = plt.subplots(figsize=(20, 20), facecolor=\"white\")\n",
    "\n",
    "ax.text(\n",
    "    0.67,\n",
    "    0.8,\n",
    "    \"KARNATAKA LOKSABHA ASSEMBLIES\",\n",
    "    fontname=\"Sawasdee\",\n",
    "    fontsize=25,\n",
    "    fontweight=3,\n",
    "    transform=fig.transFigure,\n",
    ")\n",
    "\n",
    "ax.axis(\"off\")\n",
    "\n",
    "ax = districts.boundary.plot(color=\"black\", linewidth=0.5, ax=ax)\n",
    "\n",
    "assemblies.plot(ax=ax, color=\"#ffb536\", edgecolor=\"black\")"
   ]
  },
  {
   "cell_type": "markdown",
   "id": "aaaded48",
   "metadata": {},
   "source": [
    "# Density Plots on a Map"
   ]
  },
  {
   "cell_type": "code",
   "execution_count": null,
   "id": "2c0afebe",
   "metadata": {
    "ExecuteTime": {
     "end_time": "2023-02-03T19:31:59.695909Z",
     "start_time": "2023-02-03T19:31:58.897956Z"
    },
    "scrolled": false
   },
   "outputs": [],
   "source": [
    "fig, ax = plt.subplots(figsize=(20, 20), facecolor=\"white\")\n",
    "\n",
    "ax.text(\n",
    "    0.67,\n",
    "    0.8,\n",
    "    \"KARNATAKA LOKSABHA ASSEMBLIES\",\n",
    "    fontname=\"Sawasdee\",\n",
    "    fontsize=25,\n",
    "    fontweight=3,\n",
    "    transform=fig.transFigure,\n",
    ")\n",
    "\n",
    "ax.axis(\"off\")\n",
    "\n",
    "ax = districts.boundary.plot(color=\"black\", linewidth=0.5, ax=ax)\n",
    "\n",
    "# Plot Seaborn kdeplot with x and y values from geometry\n",
    "kde = sns.kdeplot(\n",
    "    x=assemblies[\"geometry\"].x, y=assemblies[\"geometry\"].y, fill=True, cmap=\"Blues\"\n",
    ")"
   ]
  },
  {
   "cell_type": "markdown",
   "id": "a4fcaf72",
   "metadata": {},
   "source": [
    "# Clipping the heatmap, not so straight forward"
   ]
  },
  {
   "cell_type": "code",
   "execution_count": null,
   "id": "999c2677",
   "metadata": {
    "ExecuteTime": {
     "end_time": "2023-02-03T19:32:01.073036Z",
     "start_time": "2023-02-03T19:31:59.697171Z"
    }
   },
   "outputs": [],
   "source": [
    "karnataka = districts.copy()\n",
    "karnataka[\"dissolve\"] = \"Dissolve\"\n",
    "karnataka = karnataka.dissolve(by=\"dissolve\")\n",
    "karnataka = karnataka.geometry[0]\n",
    "\n",
    "not_karnataka = karnataka.envelope\n",
    "not_karnataka = scale(not_karnataka.envelope, xfact=1.2, yfact=1.2)\n",
    "not_karnataka = not_karnataka.difference(karnataka)"
   ]
  },
  {
   "cell_type": "code",
   "execution_count": null,
   "id": "c2830152",
   "metadata": {
    "ExecuteTime": {
     "end_time": "2023-02-03T19:32:01.082209Z",
     "start_time": "2023-02-03T19:32:01.074825Z"
    }
   },
   "outputs": [],
   "source": [
    "str(type(not_karnataka))"
   ]
  },
  {
   "cell_type": "code",
   "execution_count": null,
   "id": "0d6d50d5",
   "metadata": {
    "ExecuteTime": {
     "end_time": "2023-02-03T19:32:03.290227Z",
     "start_time": "2023-02-03T19:32:01.084364Z"
    },
    "scrolled": false
   },
   "outputs": [],
   "source": [
    "patches = [\n",
    "    _PolygonPatch(geom, facecolor=\"white\", edgecolor=\"white\")\n",
    "    for geom in not_karnataka.geoms\n",
    "]\n",
    "\n",
    "fig, ax = plt.subplots(figsize=(20, 20))\n",
    "\n",
    "ax.text(\n",
    "    0.67,\n",
    "    0.8,\n",
    "    \"KARNATAKA LOKSABHA ASSEMBLIES\",\n",
    "    fontname=\"Sawasdee\",\n",
    "    fontsize=25,\n",
    "    fontweight=3,\n",
    "    transform=fig.transFigure,\n",
    ")\n",
    "\n",
    "ax.axis(\"off\")\n",
    "\n",
    "ax = districts.boundary.plot(color=\"black\", linewidth=0.5, ax=ax)\n",
    "\n",
    "kde = sns.kdeplot(\n",
    "    ax=ax,\n",
    "    x=assemblies[\"geometry\"].x,\n",
    "    y=assemblies[\"geometry\"].y,\n",
    "    fill=True,\n",
    "    cmap=\"Blues\",\n",
    ")\n",
    "\n",
    "for patch in patches:\n",
    "    ax.add_patch(patch)"
   ]
  },
  {
   "cell_type": "markdown",
   "id": "39648ae7",
   "metadata": {},
   "source": [
    "# Geospatial Heatmaps"
   ]
  },
  {
   "cell_type": "code",
   "execution_count": null,
   "id": "b2c94a11",
   "metadata": {
    "ExecuteTime": {
     "end_time": "2023-02-03T19:32:03.298310Z",
     "start_time": "2023-02-03T19:32:03.292170Z"
    }
   },
   "outputs": [],
   "source": [
    "karnataka.bounds"
   ]
  },
  {
   "cell_type": "code",
   "execution_count": null,
   "id": "b3ccf099",
   "metadata": {
    "ExecuteTime": {
     "end_time": "2023-02-03T19:32:03.450909Z",
     "start_time": "2023-02-03T19:32:03.299859Z"
    }
   },
   "outputs": [],
   "source": [
    "grid_space = 0.01\n",
    "\n",
    "grid_lon = np.arange(74.0855, 78.5878 + grid_space, grid_space)\n",
    "grid_lat = np.arange(11.5949, 18.4777 + grid_space, grid_space)\n",
    "\n",
    "all_lats = np.meshgrid(grid_lon, grid_lat)[1].ravel()\n",
    "all_lons = np.meshgrid(grid_lon, grid_lat)[0].ravel()\n",
    "del grid_lat, grid_lon\n",
    "\n",
    "pairs = list(zip(all_lats, all_lons))\n",
    "del all_lats, all_lons\n",
    "\n",
    "grid = pd.DataFrame(pairs, columns=[\"lat\", \"lon\"])"
   ]
  },
  {
   "cell_type": "code",
   "execution_count": null,
   "id": "4d7635f7",
   "metadata": {
    "ExecuteTime": {
     "end_time": "2023-02-03T19:32:03.473961Z",
     "start_time": "2023-02-03T19:32:03.457384Z"
    }
   },
   "outputs": [],
   "source": [
    "grid"
   ]
  },
  {
   "cell_type": "code",
   "execution_count": null,
   "id": "ea17fbea",
   "metadata": {
    "ExecuteTime": {
     "end_time": "2023-02-03T19:32:03.483237Z",
     "start_time": "2023-02-03T19:32:03.478184Z"
    }
   },
   "outputs": [],
   "source": [
    "from sklearn.neighbors import KNeighborsRegressor"
   ]
  },
  {
   "cell_type": "code",
   "execution_count": null,
   "id": "ecf5eef1",
   "metadata": {
    "ExecuteTime": {
     "end_time": "2023-02-03T19:32:03.515950Z",
     "start_time": "2023-02-03T19:32:03.487506Z"
    }
   },
   "outputs": [],
   "source": [
    "rep_points"
   ]
  },
  {
   "cell_type": "code",
   "execution_count": null,
   "id": "c1754596",
   "metadata": {
    "ExecuteTime": {
     "end_time": "2023-02-03T19:32:03.541246Z",
     "start_time": "2023-02-03T19:32:03.518655Z"
    }
   },
   "outputs": [],
   "source": [
    "train = pd.DataFrame()\n",
    "train[\"lat\"] = rep_points[\"geometry\"].y\n",
    "train[\"lon\"] = rep_points[\"geometry\"].x\n",
    "train[\"GDDP_Current\"] = rep_points[\"GDDP_Current\"]"
   ]
  },
  {
   "cell_type": "code",
   "execution_count": null,
   "id": "35bb1be7",
   "metadata": {
    "ExecuteTime": {
     "end_time": "2023-02-03T19:32:03.565469Z",
     "start_time": "2023-02-03T19:32:03.545856Z"
    }
   },
   "outputs": [],
   "source": [
    "model = KNeighborsRegressor(weights=\"distance\", n_neighbors=len(train) - 1).fit(\n",
    "    train[[\"lat\", \"lon\"]], train[\"GDDP_Current\"].to_numpy().reshape(-1, 1)\n",
    ")"
   ]
  },
  {
   "cell_type": "code",
   "execution_count": null,
   "id": "ee6c68b8",
   "metadata": {
    "ExecuteTime": {
     "end_time": "2023-02-03T19:32:04.031043Z",
     "start_time": "2023-02-03T19:32:03.582114Z"
    }
   },
   "outputs": [],
   "source": [
    "grid[\"GDDP_Current\"] = model.predict(grid[[\"lat\", \"lon\"]])"
   ]
  },
  {
   "cell_type": "code",
   "execution_count": null,
   "id": "28f2e48b",
   "metadata": {
    "ExecuteTime": {
     "end_time": "2023-02-03T19:32:04.411680Z",
     "start_time": "2023-02-03T19:32:04.036134Z"
    }
   },
   "outputs": [],
   "source": [
    "grid = gpd.GeoDataFrame(\n",
    "    grid, geometry=gpd.points_from_xy(grid[\"lon\"], grid[\"lat\"]), crs=\"4326\"\n",
    ")"
   ]
  },
  {
   "cell_type": "code",
   "execution_count": null,
   "id": "ecd12931",
   "metadata": {
    "ExecuteTime": {
     "end_time": "2023-02-03T19:32:26.562665Z",
     "start_time": "2023-02-03T19:32:04.413069Z"
    },
    "scrolled": false
   },
   "outputs": [],
   "source": [
    "patches = [\n",
    "    _PolygonPatch(geom, facecolor=\"white\", edgecolor=\"white\")\n",
    "    for geom in not_karnataka.geoms\n",
    "]\n",
    "\n",
    "fig, ax = plt.subplots(figsize=(20, 20), facecolor=\"white\")\n",
    "\n",
    "ax.set_facecolor(\"white\")\n",
    "\n",
    "ax.text(\n",
    "    0.67,\n",
    "    0.8,\n",
    "    \"KARNATAKA DISTRICT WISE GDP (In Lakh Rupees)\",\n",
    "    fontname=\"Sawasdee\",\n",
    "    fontsize=25,\n",
    "    fontweight=3,\n",
    "    transform=fig.transFigure,\n",
    ")\n",
    "\n",
    "ax.axis(\"off\")\n",
    "\n",
    "ax = districts.boundary.plot(color=\"black\", linewidth=0.5, ax=ax)\n",
    "grid.plot(\n",
    "    ax=ax,\n",
    "    column=\"GDDP_Current\",\n",
    "    cmap=\"YlOrRd\",\n",
    "    linewidth=0.2,\n",
    "    scheme=\"percentiles\",\n",
    "    classification_kwds={\"pct\": [10, 20, 30, 40, 50, 60, 70, 80, 99, 100]},\n",
    "    legend=True,\n",
    "    legend_kwds={\n",
    "        \"labels\": [\n",
    "            \"12.8 to 18.7\",\n",
    "            \"18.7 to 22.8\",\n",
    "            \"22.8 to 25.7\",\n",
    "            \"25.7 to 27.8\",\n",
    "            \"27.8 to 31.0\",\n",
    "            \"31.0 to 38.8\",\n",
    "            \"38.8 to 39.7\",\n",
    "            \"39.7 to 52.3\",\n",
    "            \"52.3 to 445.11\",\n",
    "            \"445.11 to 596.26\",\n",
    "        ],\n",
    "        \"loc\": \"center right\",\n",
    "        \"bbox_to_anchor\": (1.3, 0.5),\n",
    "        \"prop\": {\"family\": \"Sawasdee\", \"weight\": 3, \"size\": 22},\n",
    "    },\n",
    ")\n",
    "for patch in patches:\n",
    "    ax.add_patch(patch)"
   ]
  },
  {
   "cell_type": "markdown",
   "id": "978094b4",
   "metadata": {},
   "source": [
    "# Interactive Plotting with Geopandas"
   ]
  },
  {
   "cell_type": "code",
   "execution_count": null,
   "id": "dbeab3c7",
   "metadata": {
    "ExecuteTime": {
     "end_time": "2023-02-03T19:32:49.474546Z",
     "start_time": "2023-02-03T19:32:47.438294Z"
    },
    "scrolled": false
   },
   "outputs": [],
   "source": [
    "districts.explore(\n",
    "    column=\"GDDP_Current\",\n",
    "    cmap=\"YlOrRd\",\n",
    "    scheme=\"percentiles\",\n",
    "    k=10,\n",
    "    classification_kwds={\"pct\": [10, 20, 30, 40, 50, 60, 70, 80, 99, 100]},\n",
    "    legend=True,\n",
    "    legend_kwds={\n",
    "        \"colorbar\": False,\n",
    "        \"labels\": [\n",
    "            \"12.8 to 18.7\",\n",
    "            \"18.7 to 22.8\",\n",
    "            \"22.8 to 25.7\",\n",
    "            \"25.7 to 27.8\",\n",
    "            \"27.8 to 31.0\",\n",
    "            \"31.0 to 38.8\",\n",
    "            \"38.8 to 39.7\",\n",
    "            \"39.7 to 52.3\",\n",
    "            \"52.3 to 445.11\",\n",
    "            \"445.11 to 596.26\",\n",
    "        ],\n",
    "    },\n",
    ")"
   ]
  },
  {
   "cell_type": "code",
   "execution_count": null,
   "id": "611ba199",
   "metadata": {
    "ExecuteTime": {
     "end_time": "2023-02-03T19:32:31.193888Z",
     "start_time": "2023-02-03T19:32:28.909015Z"
    }
   },
   "outputs": [],
   "source": [
    "districts.explore(\n",
    "    column=\"GDDP_Current\",\n",
    "    cmap=\"YlOrRd\",\n",
    "    scheme=\"percentiles\",\n",
    "    k=10,\n",
    "    classification_kwds={\"pct\": [10, 20, 30, 40, 50, 60, 70, 80, 99, 100]},\n",
    "    tiles=None,\n",
    "    legend=True,\n",
    "    legend_kwds={\n",
    "        \"colorbar\": False,\n",
    "        \"labels\": [\n",
    "            \"12.8 to 18.7\",\n",
    "            \"18.7 to 22.8\",\n",
    "            \"22.8 to 25.7\",\n",
    "            \"25.7 to 27.8\",\n",
    "            \"27.8 to 31.0\",\n",
    "            \"31.0 to 38.8\",\n",
    "            \"38.8 to 39.7\",\n",
    "            \"39.7 to 52.3\",\n",
    "            \"52.3 to 445.11\",\n",
    "            \"445.11 to 596.26\",\n",
    "        ],\n",
    "    },\n",
    ")"
   ]
  },
  {
   "cell_type": "markdown",
   "id": "d9dc70b4",
   "metadata": {},
   "source": [
    "# Data Soruces\n",
    " * Govt GIS Portals\n",
    " * ArcGIS Open Data Hub - https://hub.arcgis.com/\n",
    " * Natural Earth - https://www.naturalearthdata.com\n",
    " * OpenStreetMap - https://overpass-turbo.eu/ "
   ]
  },
  {
   "attachments": {},
   "cell_type": "markdown",
   "id": "ef0f705d",
   "metadata": {},
   "source": [
    "# gspatial_plot\n",
    "\n",
    "* Open Source geospatial plotting library\n",
    "* seaborn equivalent for geospatial plots\n",
    "* simplified way to plot popular type of thematic maps\n",
    "* better default settings\n",
    "* customization parameters\n",
    "* built on top of geopandas, cross compatible with geopandas and matplotlib\n",
    "\n",
    "- Star it on Github - https://github.com/ambeelabs/gspatial_plot\n",
    "- Install it PyPi - https://pypi.org/project/gspatial-plot/ (pip install gspatial-plot)\n",
    "- Readthedocs - https://gspatial-plot.readthedocs.io (Examples and more explanations will be added)\n",
    "- In the plans - Blog series sharing tutorials and recipes\n",
    "\n",
    "Note: The library is in alpha and there might be some bugs that needs fixing, please report bugs if you find any.\n"
   ]
  },
  {
   "cell_type": "markdown",
   "id": "5eaf13ea",
   "metadata": {},
   "source": []
  }
 ],
 "metadata": {
  "hide_input": false,
  "kernelspec": {
   "display_name": "Python 3 (ipykernel)",
   "language": "python",
   "name": "python3"
  },
  "language_info": {
   "codemirror_mode": {
    "name": "ipython",
    "version": 3
   },
   "file_extension": ".py",
   "mimetype": "text/x-python",
   "name": "python",
   "nbconvert_exporter": "python",
   "pygments_lexer": "ipython3",
   "version": "3.10.8"
  },
  "varInspector": {
   "cols": {
    "lenName": 16,
    "lenType": 16,
    "lenVar": 40
   },
   "kernels_config": {
    "python": {
     "delete_cmd_postfix": "",
     "delete_cmd_prefix": "del ",
     "library": "var_list.py",
     "varRefreshCmd": "print(var_dic_list())"
    },
    "r": {
     "delete_cmd_postfix": ") ",
     "delete_cmd_prefix": "rm(",
     "library": "var_list.r",
     "varRefreshCmd": "cat(var_dic_list()) "
    }
   },
   "types_to_exclude": [
    "module",
    "function",
    "builtin_function_or_method",
    "instance",
    "_Feature"
   ],
   "window_display": false
  }
 },
 "nbformat": 4,
 "nbformat_minor": 5
}
